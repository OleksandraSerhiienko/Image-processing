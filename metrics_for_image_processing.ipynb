{
 "cells": [
  {
   "cell_type": "code",
   "execution_count": null,
   "metadata": {},
   "outputs": [],
   "source": [
    "\n",
    "import json\n",
    "import cv2\n",
    "import os\n",
    "from ultralytics import YOLO\n",
    "from utils import parse_coco_dataset, crop_box, draw_objects, calculate_iou\n",
    "from YOLOv8_predict import extract_detections_pt\n"
   ]
  },
  {
   "cell_type": "code",
   "execution_count": null,
   "metadata": {},
   "outputs": [],
   "source": [
    "# initialize paths\n",
    "folder_with_images = '/data/datasets/model_validation/val_yolo/images'\n",
    "coco_annotations_file = '/data/datasets/model_validation/coco/annotations/instances_default.json'\n",
    "visualized_images = 'visualized_images'\n",
    "yolo_model_name = \"yolov8n\""
   ]
  },
  {
   "cell_type": "code",
   "execution_count": null,
   "metadata": {},
   "outputs": [],
   "source": [
    "#  functions\n",
    "def draw_and_save_coco(coco_annotations, result_folder):\n",
    "    os.makedirs(result_folder, exist_ok=True)\n",
    "    for image_filepath, objects in coco_annotations.items():\n",
    "        image = cv2.imread(image_filepath)\n",
    "        if image is None:\n",
    "            print(f\"Cannot read image. Check path {image_filepath}\")\n",
    "            continue\n",
    "        image = draw_objects(image, objects)\n",
    "        result_filepath = os.path.join(result_folder, os.path.split(image_filepath)[-1])\n",
    "        cv2.imwrite(result_filepath, image)\n",
    "\n",
    "def run_image_with_yolo(image, model):\n",
    "    detections = []\n",
    "    predicted_data = model(image)\n",
    "    for pred in predicted_data:\n",
    "        dets = extract_detections_pt(pred)\n",
    "        for det in dets:\n",
    "            label = det['label']\n",
    "            score = det['score']\n",
    "            box = crop_box(det['ltrb'], image.shape[:2])\n",
    "            detections.append({'label': label, 'ltrb': box, 'score': score})\n",
    "    return detections\n",
    "\n",
    "def process_images(image_filepaths, model, annotations={}, result_folder=None):\n",
    "    if result_folder: os.makedirs(result_folder, exist_ok=True)\n",
    "    images_annotations_detections = {}\n",
    "    for image_filepath in image_filepaths:\n",
    "        # read image\n",
    "        image = cv2.imread(image_filepath)\n",
    "        if image is None:\n",
    "            print(f\"Cannot read image. Check path {image_filepath}\")\n",
    "            continue\n",
    "        # get annotated objects if annotations provided\n",
    "        annotated_objects = annotations.get(image_filepath, [])\n",
    "        # get detections\n",
    "        detections = run_image_with_yolo(image, model)\n",
    "        # draw objects and save an image if required\n",
    "        if result_folder:\n",
    "            result_filepath = os.path.join(result_folder, os.path.split(image_filepath)[-1])\n",
    "            image = draw_objects(image, annotated_objects)\n",
    "            image = draw_objects(image, detections)\n",
    "            cv2.imwrite(result_filepath, image)\n",
    "        #  keep results for next evaluation\n",
    "        images_annotations_detections[image_filepath] = {\n",
    "            \"annotated_objects\": annotated_objects,\n",
    "            \"detections\": detections\n",
    "        }\n",
    "    return images_annotations_detections"
   ]
  },
  {
   "cell_type": "code",
   "execution_count": null,
   "metadata": {},
   "outputs": [],
   "source": [
    "coco_annotations = parse_coco_dataset(folder_with_images, coco_annotations_file)\n",
    "#draw_and_save_coco(coco_annotations, visualized_images)\n",
    "\n",
    "model = YOLO(yolo_model_name)\n",
    "images_annotations_detections = process_images(coco_annotations.keys(), model, coco_annotations, visualized_images)\n",
    "\n"
   ]
  },
  {
   "cell_type": "code",
   "execution_count": null,
   "metadata": {},
   "outputs": [],
   "source": [
    "\n",
    "\n",
    "def compute_ious(img_filepath, ground_truth_data, predicted_data):\n",
    "    results = []\n",
    "    for gt_obj in ground_truth_data:\n",
    "        gt_label, gt_box = gt_obj['label'], gt_obj['ltrb']\n",
    "        for detection in predicted_data:\n",
    "            det_label, det_box, det_score = detection['label'], detection['ltrb'], detection['score']\n",
    "            if gt_label == det_label:\n",
    "                iou = calculate_iou(gt_box, det_box)\n",
    "                results.append({\n",
    "                    'img_filepath': img_filepath, \n",
    "                    'label': gt_label, \n",
    "                    'gt_box': gt_box,\n",
    "                    'det_box': det_box,\n",
    "                    'iou': iou})\n",
    "    return results\n",
    "\n",
    "img_filepaths = list(coco_annotations.keys())\n",
    "img_filepath  = img_filepaths[0]\n",
    "results = compute_ious(img_filepath, images_annotations_detections[img_filepath], images_annotations_detections[img_filepath])\n",
    "print(results)"
   ]
  }
 ],
 "metadata": {
  "language_info": {
   "name": "python"
  }
 },
 "nbformat": 4,
 "nbformat_minor": 2
}
