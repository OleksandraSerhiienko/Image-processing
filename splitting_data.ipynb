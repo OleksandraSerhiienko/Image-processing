{
 "cells": [
  {
   "cell_type": "code",
   "execution_count": 3,
   "metadata": {},
   "outputs": [],
   "source": [
    "import os\n",
    "import random\n",
    "import shutil"
   ]
  },
  {
   "cell_type": "code",
   "execution_count": 4,
   "metadata": {},
   "outputs": [],
   "source": [
    "def clear_directory(directory):\n",
    "    if os.path.exists(directory):\n",
    "        shutil.rmtree(directory)\n",
    "    os.makedirs(directory)\n",
    "\n",
    "def copy_files(files, source_dir, labels_dir, output_dir, lst_names_file):\n",
    "    with open(lst_names_file, 'w') as list_file:\n",
    "        for file_name in files:\n",
    "            base_name = '.'.join(file_name.split('.')[:-1])  #  friendly to filenames with points in name\n",
    "            source_image_path = os.path.join(source_dir, file_name) #path to each image in source_dir\n",
    "            label_file = os.path.join(labels_dir, base_name + '.txt') #path to each label in label_dir\n",
    "            assert(os.path.isfile(label_file)),f\"Cannot find label for file {file_name}\"\n",
    "            if not os.path.isfile(label_file):\n",
    "                print(f\"Cannot find label for file {file_name}\")\n",
    "                continue\n",
    "            output_image_path = os.path.join(output_dir, 'images', file_name) #path where the image will be copied\n",
    "            output_label_path = os.path.join(output_dir, 'labels', base_name + '.txt') #path where the labels will be copied\n",
    "            \n",
    "            #Copy image file\n",
    "            if not os.path.exists(output_image_path):\n",
    "                shutil.copy(source_image_path, output_image_path)\n",
    "                print(f'Copied {file_name} to {output_image_path}')\n",
    "            else:\n",
    "                print(f'File {file_name} already exists in {output_image_path}')\n",
    "            \n",
    "            # Copy label file\n",
    "            if not os.path.exists(output_label_path):\n",
    "                shutil.copy(label_file, output_label_path)\n",
    "                print(f'Copied {base_name}.txt to {output_label_path}')\n",
    "            else:\n",
    "                print(f'Label file {base_name}.txt already exists in {output_label_path}')\n",
    "            list_file.write(file_name + '\\n')"
   ]
  },
  {
   "cell_type": "code",
   "execution_count": null,
   "metadata": {},
   "outputs": [],
   "source": [
    "def split_train_val(source_dir, train_dir, val_dir, labels_dir, val_ratio=0.4):\n",
    "    # Creating directories\n",
    "    clear_directory(os.path.join(train_dir, 'labels'))\n",
    "    clear_directory(os.path.join(train_dir, 'images'))\n",
    "    clear_directory(os.path.join(val_dir, 'labels'))\n",
    "    clear_directory(os.path.join(val_dir, 'images'))\n",
    " \n",
    "    all_files =os.listdir(source_dir)\n",
    "    image_files = [f for f in all_files if os.path.isfile(os.path.join(source_dir, f))]\n",
    "    random.shuffle(image_files)\n",
    "    \n",
    "    split_index = int(len(image_files) * (1 - val_ratio))\n",
    "    train = image_files[:split_index]\n",
    "    print(f\"Numb of images in training set: {len(train)}\")\n",
    "    val = image_files[split_index:]\n",
    "    print(f\"Numb of images in validation set: {len(val)}\")\n",
    "\n",
    "    # Copy training and validation files\n",
    "\n",
    "    copy_files(train, source_dir, labels_dir, train_dir, os.path.join(train_dir, 'train.txt'))\n",
    "    copy_files(val, source_dir, labels_dir, val_dir, os.path.join(val_dir, 'val.txt'))\n",
    "    print(f\"Copied {len(train)} files to {train_dir}\")\n",
    "    print(f\"Copied {len(val)} files to {val_dir}\")\n",
    "\n",
    "# Example usage\n",
    "source_dir = '/data/datasets/model_validation/val_yolo/images'\n",
    "labels_dir = '/data/datasets/model_validation/val_yolo/labels'\n",
    "split_train_val(source_dir, 'train_dir', 'val_dir', labels_dir, val_ratio=0.4)"
   ]
  },
  {
   "cell_type": "code",
   "execution_count": null,
   "metadata": {},
   "outputs": [],
   "source": [
    "def get_file_names(directory, folder):\n",
    "    files = os.listdir(os.path.join(directory, folder))\n",
    "    base_name = {os.path.splitext(f)[0] for f in files}\n",
    "    return base_name\n",
    "\n",
    "train_images_folder = get_file_names('/data/datasets/model_validation/split_train_val/train_dir', '/data/datasets/model_validation/split_train_val/train_dir/images')\n",
    "train_labels_folder = get_file_names('/data/datasets/model_validation/split_train_val/train_dir', '/data/datasets/model_validation/split_train_val/train_dir/labels')\n",
    "val_images_folder = get_file_names('/data/datasets/model_validation/split_train_val/val_dir', '/data/datasets/model_validation/split_train_val/val_dir/images')\n",
    "val_labels_folder = get_file_names('/data/datasets/model_validation/split_train_val/val_dir', '/data/datasets/model_validation/split_train_val/val_dir/labels')\n",
    "images_duplicates = train_images_folder.intersection(val_images_folder)\n",
    "labels_duplicates = train_labels_folder.intersection(val_labels_folder)\n",
    "if images_duplicates:\n",
    "    print(f'Duplicates in train_images_folder and val_images_folder found: {images_duplicates}')\n",
    "else:\n",
    "    print('No duplicates in train_images_folder and val_images_folder')\n",
    "if labels_duplicates:\n",
    "    print(f'Duplicates in train_labels_folder and val_labels_folder found: {labels_duplicates}')\n",
    "else:\n",
    "    print('No duplicates in train_labels_folder and val_labels_folder')"
   ]
  },
  {
   "cell_type": "code",
   "execution_count": 7,
   "metadata": {},
   "outputs": [],
   "source": [
    "def mismatched_img_and_label(directory, folder_with_img, folder_with_label):\n",
    "    image_file = os.listdir(os.path.join(directory, folder_with_img))\n",
    "    label_file = os.listdir(os.path.join(directory, folder_with_label))\n",
    "    image_base = {os.path.splitext(f)[0] for f in image_file} #set of basenames of images\n",
    "    label_base = {os.path.splitext(f)[0] for f in label_file} #set of basenames of labels\n",
    "    mismatched_img = image_base - label_base # returns set of basenames that are in image_base but not in label_base\n",
    "    mismatched_label = label_base - image_base # returns set of basenames that are in label_base but not in image_base\n",
    "    if mismatched_img:\n",
    "        print(f'No corresponding label for image in {directory}:{mismatched_img}')\n",
    "    if mismatched_label:\n",
    "        print(f'No corresponding image for label in {directory}:{mismatched_label}')\n",
    "mismatched_img_and_label('/data/datasets/model_validation/split_train_val/train_dir', '/data/datasets/model_validation/split_train_val/train_dir/images', '/data/datasets/model_validation/split_train_val/train_dir/labels')\n",
    "mismatched_img_and_label('/data/datasets/model_validation/split_train_val/val_dir','/data/datasets/model_validation/split_train_val/train_dir/images', '/data/datasets/model_validation/split_train_val/train_dir/labels' )"
   ]
  }
 ],
 "metadata": {
  "kernelspec": {
   "display_name": "Python 3",
   "language": "python",
   "name": "python3"
  },
  "language_info": {
   "codemirror_mode": {
    "name": "ipython",
    "version": 3
   },
   "file_extension": ".py",
   "mimetype": "text/x-python",
   "name": "python",
   "nbconvert_exporter": "python",
   "pygments_lexer": "ipython3",
   "version": "3.10.12"
  }
 },
 "nbformat": 4,
 "nbformat_minor": 2
}
